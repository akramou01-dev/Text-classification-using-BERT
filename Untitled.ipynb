{
 "cells": [
  {
   "cell_type": "markdown",
   "id": "af4eac02",
   "metadata": {},
   "source": [
    "in this notebook we are going to classify some documents into 5 categs (sport, tech, entertainement , politics and Busness )\n",
    "for this NLP task which is docs classification we are going to use BERT"
   ]
  },
  {
   "cell_type": "code",
   "execution_count": 1,
   "id": "b1346506",
   "metadata": {},
   "outputs": [],
   "source": [
    "import pandas as pd\n",
    "import torch \n",
    "from transformers import BertTokenizer\n",
    "import numpy as np\n",
    "from transformers import BertModel\n",
    "from tqdm import tqdm \n"
   ]
  },
  {
   "cell_type": "code",
   "execution_count": 2,
   "id": "5a22c158",
   "metadata": {},
   "outputs": [
    {
     "data": {
      "text/plain": [
       "category\n",
       "business         510\n",
       "entertainment    386\n",
       "politics         417\n",
       "sport            511\n",
       "tech             401\n",
       "dtype: int64"
      ]
     },
     "execution_count": 2,
     "metadata": {},
     "output_type": "execute_result"
    }
   ],
   "source": [
    "df = pd.read_csv(\"bbc-text.csv\")\n",
    "df.groupby([\"category\"]).size()"
   ]
  },
  {
   "cell_type": "markdown",
   "id": "9fe8a8c3",
   "metadata": {},
   "source": [
    "## Data Preprocessing "
   ]
  },
  {
   "cell_type": "code",
   "execution_count": 58,
   "id": "71a136f6",
   "metadata": {},
   "outputs": [
    {
     "data": {
      "application/vnd.jupyter.widget-view+json": {
       "model_id": "974df05bbf664f88bea697bdb8454cde",
       "version_major": 2,
       "version_minor": 0
      },
      "text/plain": [
       "Downloading:   0%|          | 0.00/208k [00:00<?, ?B/s]"
      ]
     },
     "metadata": {},
     "output_type": "display_data"
    },
    {
     "data": {
      "application/vnd.jupyter.widget-view+json": {
       "model_id": "495ed5e19dd94721a3f4082278c505de",
       "version_major": 2,
       "version_minor": 0
      },
      "text/plain": [
       "Downloading:   0%|          | 0.00/29.0 [00:00<?, ?B/s]"
      ]
     },
     "metadata": {},
     "output_type": "display_data"
    },
    {
     "data": {
      "application/vnd.jupyter.widget-view+json": {
       "model_id": "424526e844e24264a86d5ae631dd259b",
       "version_major": 2,
       "version_minor": 0
      },
      "text/plain": [
       "Downloading:   0%|          | 0.00/426k [00:00<?, ?B/s]"
      ]
     },
     "metadata": {},
     "output_type": "display_data"
    },
    {
     "data": {
      "application/vnd.jupyter.widget-view+json": {
       "model_id": "b02282ebf7c4403f8ff21250c85ba26e",
       "version_major": 2,
       "version_minor": 0
      },
      "text/plain": [
       "Downloading:   0%|          | 0.00/570 [00:00<?, ?B/s]"
      ]
     },
     "metadata": {},
     "output_type": "display_data"
    }
   ],
   "source": [
    "tokenizer = BertTokenizer.from_pretrained(\"bert-base-cased\")"
   ]
  },
  {
   "cell_type": "code",
   "execution_count": 61,
   "id": "be044776",
   "metadata": {},
   "outputs": [],
   "source": [
    "# we are going to tesst the bert tokenizer on an exemple to have a good idea on how it works\n",
    "\n",
    "sample = 'Hey my name is BERT'\n",
    "# truncation : if it is True then we allow bert to truncated every sequence it's length is higher then max_length\n",
    "# return_tensors : the type of tensors that will be returned (as we are using pytorch then we set \"pt\")\n",
    "bert_input  = tokenizer(sample,padding=\"max_length\",max_length=15,truncation=True,return_tensors=\"pt\")\n"
   ]
  },
  {
   "cell_type": "code",
   "execution_count": 67,
   "id": "d218bd87",
   "metadata": {},
   "outputs": [
    {
     "name": "stdout",
     "output_type": "stream",
     "text": [
      "tensor([[ 101, 4403, 1139, 1271, 1110,  139, 9637, 1942,  102,    0,    0,    0,\n",
      "            0,    0,    0]])\n",
      "[CLS] Hey my name is BERT [SEP] [PAD] [PAD] [PAD] [PAD] [PAD] [PAD]\n"
     ]
    }
   ],
   "source": [
    "print(bert_input[\"input_ids\"])\n",
    "# input_ids are the id representation of each token \n",
    "# we can decode these inputs to get the original sequence \n",
    "print(tokenizer.decode(bert_input[\"input_ids\"][0] ))\n",
    "# the code 102 is for the [SEP] token and the 0 is for [PAD] token "
   ]
  },
  {
   "cell_type": "code",
   "execution_count": 69,
   "id": "d1aed264",
   "metadata": {},
   "outputs": [
    {
     "name": "stdout",
     "output_type": "stream",
     "text": [
      "tensor([[0, 0, 0, 0, 0, 0, 0, 0, 0, 0, 0, 0, 0, 0, 0]])\n"
     ]
    }
   ],
   "source": [
    "print(bert_input[\"token_type_ids\"])\n",
    "# the token_type_ids identified to which sequence a token belongs, when having just one sequence so it's always 0 "
   ]
  },
  {
   "cell_type": "code",
   "execution_count": 71,
   "id": "3fdc0828",
   "metadata": {},
   "outputs": [
    {
     "name": "stdout",
     "output_type": "stream",
     "text": [
      "tensor([[1, 1, 1, 1, 1, 1, 1, 1, 1, 0, 0, 0, 0, 0, 0]])\n"
     ]
    }
   ],
   "source": [
    "print(bert_input[\"attention_mask\"])\n",
    "# the attention_mask identified whether the token is a real word or just a token padding\n",
    "# it's 1 for the real words, the CLS and the SEP tokens, and for the pad token is 0\n"
   ]
  },
  {
   "cell_type": "markdown",
   "id": "8b679349",
   "metadata": {},
   "source": [
    "in this example, we are using the **bert-base-cased** pre-trained model and that's because our dataset is in english, if we are dealing with a dataset which is multilingual the we need to use **bert-base-multilingual-cased**"
   ]
  },
  {
   "cell_type": "markdown",
   "id": "7d8cbd8d",
   "metadata": {},
   "source": [
    "### Dataset Class \n",
    "\n",
    "Now that we know which are the ouputs of our bert tokenizer we are going to build a Dataset Class for our news Dataset "
   ]
  },
  {
   "cell_type": "code",
   "execution_count": 3,
   "id": "9428fdf5",
   "metadata": {},
   "outputs": [],
   "source": [
    "tokenizer= BertTokenizer.from_pretrained(\"bert-base-cased\")\n",
    "labels = {\n",
    "    'business':0,\n",
    "    'entertainment':1,\n",
    "    'sport':2,\n",
    "    'tech':3,\n",
    "    'politics':4\n",
    "}\n",
    "class Dataset(torch.utils.data.Dataset): \n",
    "    def __init__(self,df): \n",
    "        #extract our labels from the df \n",
    "        self.labels = [labels[label] for label in df[\"category\"]]\n",
    "        #tokenize our texts to the format that BERT expects to get as input \n",
    "        self.texts = [tokenizer(text, padding='max_length', max_length=512, truncation=True,return_tensors=\"pt\") for text in df[\"text\"]] \n",
    "    def classes(self):\n",
    "        return self.labels\n",
    "    \n",
    "    def __len__(self): \n",
    "        return len(self.labels)\n",
    "    \n",
    "    #fetch a batch of labels\n",
    "    def get_batch_labels(self,indx): \n",
    "        return np.array(self.labels[indx])\n",
    "    # fetch a batch of texts \n",
    "    def get_batch_texts(self,indx): \n",
    "        return self.texts[indx]\n",
    "\n",
    "    #get an item with the texts and the label\n",
    "    def __getitem__(self,indx): \n",
    "        batch_texts = self.get_batch_texts(indx)\n",
    "        batch_y = self.get_batch_labels(indx)\n",
    "        \n",
    "        \n",
    "        return batch_texts, batch_y\n",
    "        "
   ]
  },
  {
   "cell_type": "markdown",
   "id": "e079cab2",
   "metadata": {},
   "source": [
    "Now after creating the Dataset Class let's split our dataset into train,validation and test sets\n",
    "\n",
    "* training set contains : 80% \n",
    "* test and validation contains : 10% each"
   ]
  },
  {
   "cell_type": "code",
   "execution_count": 4,
   "id": "03b45cd3",
   "metadata": {},
   "outputs": [],
   "source": [
    "df_train, df_valid,df_test = np.split(df.sample(frac=1,random_state=42),[int(.8*len(df)), int(.9*len(df))])"
   ]
  },
  {
   "cell_type": "markdown",
   "id": "db38c123",
   "metadata": {},
   "source": [
    "## Building the model\n",
    "Now after preparing our data to the Learning process, let's create our model using the pre-trained BERT base model which contains 12 layers of Transformers encoder."
   ]
  },
  {
   "cell_type": "code",
   "execution_count": 6,
   "id": "e23599d9",
   "metadata": {},
   "outputs": [],
   "source": [
    "class BertClassifier(torch.nn.Module): \n",
    "    def __init__(self,dropout=0.5): \n",
    "        super(BertClassifier,self).__init__()\n",
    "        \n",
    "        self.bert=BertModel.from_pretrained(\"bert-base-cased\")\n",
    "        self.dropout = torch.nn.Dropout(dropout)\n",
    "        # bert output a vector of size 768\n",
    "        self.lin = torch.nn.Linear(768,5)\n",
    "        self.relu = torch.nn.ReLU(inplace=True)\n",
    "    def forward(self,input_id,mask): \n",
    "        # as output, the bert model give us first the embedding vector of all the tokens of the sequence \n",
    "        # second we get the embedding vector of the CLS token.\n",
    "        # fot a classification task it's enough to use this embedding for our classifier\n",
    "        _,pooled_output = self.bert(input_ids= input_id,attention_mask = mask,return_dict = False)\n",
    "        dropout_output = self.dropout(pooled_output)\n",
    "        linear_output  = self.lin(dropout_output)\n",
    "        final_layer = self.relu(linear_output)\n",
    "        \n",
    "        return final_layer\n",
    "        "
   ]
  },
  {
   "cell_type": "markdown",
   "id": "9f2f88f9",
   "metadata": {},
   "source": [
    "## Training  "
   ]
  },
  {
   "cell_type": "code",
   "execution_count": 32,
   "id": "1b70e465",
   "metadata": {},
   "outputs": [],
   "source": [
    "# we are creating a standard pytorch training loop \n",
    "def train(model,train_data, validation_data,optim,criterion,epochs=10):\n",
    "    #creating a custom Dataset objects using the training and validation data\n",
    "    train,valid = Dataset(train_data) , Dataset(validation_data)\n",
    "    \n",
    "    #creating dataloaders \n",
    "    train_dl = torch.utils.data.DataLoader(train,batch_size=128 , shuffle=True)\n",
    "    valid_dl = torch.utils.data.DataLoader(valid,batch_size=128)\n",
    "    \n",
    "    #seting the device to run \n",
    "    device = torch.device(\"cuda\" if torch.cuda.is_available() else \"cpu\")\n",
    "    if torch.cuda.is_available():\n",
    "        model.cuda()\n",
    "        criterion.cuda()\n",
    "    \n",
    "    # the training loop \n",
    "    for epoch in range(1,epochs):\n",
    "        train_accuracy = 0\n",
    "        train_loss = 0\n",
    "        \n",
    "        for train_input,train_label in tqdm(train_dl): \n",
    "#             print(f\"the train input : {train_input}\")\n",
    "#             print(f\"train label : {train_label}\")\n",
    "            \n",
    "            train_label = train_label.to(device)\n",
    "            mask = train_input[\"attention_mask\"].to(device)\n",
    "            input_id = train_input[\"input_ids\"].squeeze(1).to(device)\n",
    "#             print(input_id.shape)\n",
    "            \n",
    "            # get the predictions \n",
    "            output = model(input_id,mask)\n",
    "            #the output is a vector of 5 values (categs)\n",
    "#             print(output)\n",
    "#             print(\"the output shape is\" ,  output.shape)\n",
    "#             print(train_label)\n",
    "            \n",
    "            \n",
    "#             print(\"train label shape is :\" , train_label.shape)\n",
    "            loss = criterion(output,train_label.type(torch.LongTensor))\n",
    "            train_loss+= loss.item()\n",
    "            \n",
    "            accuracy = (output.argmax(dim=1) == train_label).sum().item()\n",
    "            train_accuracy +=accuracy\n",
    "            \n",
    "            \n",
    "            #update the gradient descent and do the backpropagation \n",
    "            model.zero_grad()\n",
    "            loss.backward()\n",
    "            optim.step()\n",
    "        # now we evaluate on the validation data\n",
    "        \n",
    "        valid_accuracy = 0\n",
    "        valid_loss = 0\n",
    "        with torch.no_grad():\n",
    "            for val_input, val_label in valid_dl: \n",
    "                \n",
    "                val_label = val_label.to(device)\n",
    "                mask = val_input[\"attention_mask\"].to(device)\n",
    "                input_id  = val_input[\"input_ids\"].squeeze(1) .to(device)\n",
    "                \n",
    "                output = model(input_id,mask)\n",
    "                \n",
    "                loss = criterion(output,val_label.type(torch.LongTensor))\n",
    "                valid_loss+=loss\n",
    "\n",
    "                accuracy = (output.argmax(dim=1)==val_label).sum().item()\n",
    "                valid_accuracy += accuracy\n",
    "        \n",
    "        print(\n",
    "            f\"Epoch =[{epoch}]/[{epochs}] train loss = {train_loss / len(train_data): .3f} train accuracy = {train_accuracy / len(train_data): .3f} validation loss = {valid_loss / len(validation_data): .3f} validation accurac = {valid_accuracy / len(validation_data): .3f}\"\n",
    "        )\n",
    "            "
   ]
  },
  {
   "cell_type": "code",
   "execution_count": 33,
   "id": "164c4a4d",
   "metadata": {
    "scrolled": true
   },
   "outputs": [
    {
     "name": "stderr",
     "output_type": "stream",
     "text": [
      "Some weights of the model checkpoint at bert-base-cased were not used when initializing BertModel: ['cls.predictions.transform.LayerNorm.bias', 'cls.seq_relationship.bias', 'cls.predictions.transform.LayerNorm.weight', 'cls.predictions.transform.dense.bias', 'cls.seq_relationship.weight', 'cls.predictions.transform.dense.weight', 'cls.predictions.bias', 'cls.predictions.decoder.weight']\n",
      "- This IS expected if you are initializing BertModel from the checkpoint of a model trained on another task or with another architecture (e.g. initializing a BertForSequenceClassification model from a BertForPreTraining model).\n",
      "- This IS NOT expected if you are initializing BertModel from the checkpoint of a model that you expect to be exactly identical (initializing a BertForSequenceClassification model from a BertForSequenceClassification model).\n"
     ]
    }
   ],
   "source": [
    "EPOCHS = 5\n",
    "learning_rate = 1e-06\n",
    "model = BertClassifier()\n",
    "criterion = torch.nn.CrossEntropyLoss()\n",
    "optim = torch.optim.Adam(model.parameters(),lr=learning_rate)"
   ]
  },
  {
   "cell_type": "code",
   "execution_count": null,
   "id": "25a105ac",
   "metadata": {
    "scrolled": true
   },
   "outputs": [
    {
     "name": "stderr",
     "output_type": "stream",
     "text": [
      "\r",
      "  0%|          | 0/14 [00:00<?, ?it/s]"
     ]
    }
   ],
   "source": [
    "train(model,df_train,df_valid,optim,criterion,EPOCHS)"
   ]
  },
  {
   "cell_type": "code",
   "execution_count": null,
   "id": "dd1cea50",
   "metadata": {},
   "outputs": [],
   "source": []
  }
 ],
 "metadata": {
  "kernelspec": {
   "display_name": "Python 3 (ipykernel)",
   "language": "python",
   "name": "python3"
  },
  "language_info": {
   "codemirror_mode": {
    "name": "ipython",
    "version": 3
   },
   "file_extension": ".py",
   "mimetype": "text/x-python",
   "name": "python",
   "nbconvert_exporter": "python",
   "pygments_lexer": "ipython3",
   "version": "3.8.11"
  }
 },
 "nbformat": 4,
 "nbformat_minor": 5
}
